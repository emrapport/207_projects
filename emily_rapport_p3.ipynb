{
 "cells": [
  {
   "cell_type": "markdown",
   "metadata": {},
   "source": [
    "# Project 3: Poisonous mushrooms"
   ]
  },
  {
   "cell_type": "markdown",
   "metadata": {},
   "source": [
    "In this project, you'll investigate properties of mushrooms. This classic dataset contains over 8000 observations, where each mushroom is described by a variety of features like color, odor, etc., and the target variable is an indicator for whether the mushroom is poisonous. Since all the observations are categorical, I've binarized the feature space. Look at the feature_names below to see all 126 binary names.\n",
    "\n",
    "You'll start by running PCA to reduce the dimensionality from 126 down to 2 so that you can easily visualize the data. In general, PCA is very useful for visualization (though sklearn.manifold.tsne is known to produce better visualizations). Recall that PCA is a linear transformation. The 1st projected dimension is the linear combination of all 126 original features that captures as much of the variance in the data as possible. The 2nd projected dimension is the linear combination of all 126 original features that captures as much of the remaining variance as possible. The idea of dense low dimensional representations is crucial to machine learning!\n",
    "\n",
    "Once you've projected the data to 2 dimensions, you'll experiment with clustering using KMeans and density estimation with Gaussian Mixture Models. Finally, you'll train a classifier by fitting a GMM for the positive class and a GMM for the negative class, and perform inference by comparing the probabilities output by each model.\n",
    "\n",
    "As always, you're welcome to work on the project in groups and discuss ideas on the course wall, but please prepare your own write-up and write your own code."
   ]
  },
  {
   "cell_type": "code",
   "execution_count": null,
   "metadata": {
    "collapsed": true
   },
   "outputs": [],
   "source": [
    "%matplotlib inline\n",
    "\n",
    "import numpy as np\n",
    "import matplotlib.pyplot as plt\n",
    "from sklearn import metrics\n",
    "from sklearn.decomposition import PCA\n",
    "from sklearn.cluster import KMeans\n",
    "from sklearn.mixture import GaussianMixture\n",
    "from matplotlib.colors import LogNorm"
   ]
  },
  {
   "cell_type": "markdown",
   "metadata": {},
   "source": [
    "Load feature names."
   ]
  },
  {
   "cell_type": "code",
   "execution_count": null,
   "metadata": {},
   "outputs": [],
   "source": [
    "feature_names = []\n",
    "with open('../Data/mushroom.map') as fmap:\n",
    "    for line in fmap:\n",
    "        [index, name, junk] = line.split()\n",
    "        feature_names.append(name)\n",
    "\n",
    "print('Loaded feature names:', len(feature_names))"
   ]
  },
  {
   "cell_type": "markdown",
   "metadata": {},
   "source": [
    "Load data. The data is sparse in the input file, but there aren't too many features, so we'll use a dense representation, which is supported by all sklearn objects."
   ]
  },
  {
   "cell_type": "code",
   "execution_count": null,
   "metadata": {},
   "outputs": [],
   "source": [
    "X, Y = [], []\n",
    "\n",
    "with open('../Data/mushroom.data') as fdata:\n",
    "    for line in fdata:\n",
    "        items = line.split()\n",
    "        Y.append(int(items.pop(0)))\n",
    "        x = np.zeros(len(feature_names))\n",
    "        for item in items:\n",
    "            feature = int(item.split(':')[0])\n",
    "            x[feature] = 1\n",
    "        X.append(x)\n",
    "\n",
    "# Convert these lists to numpy arrays.\n",
    "X = np.array(X)\n",
    "Y = np.array(Y)\n",
    "\n",
    "# Split into train and test data.\n",
    "train_data, train_labels = X[:7000], Y[:7000]\n",
    "test_data, test_labels = X[7000:], Y[7000:]\n",
    "\n",
    "# Check that the shapes look right.\n",
    "print(train_data.shape, test_data.shape)"
   ]
  },
  {
   "cell_type": "markdown",
   "metadata": {},
   "source": [
    "(1) Run Principal Components Analysis on the data. Show what fraction of the total variance in the training data is explained by the first k principal components, for k in [1, 50]."
   ]
  },
  {
   "cell_type": "code",
   "execution_count": null,
   "metadata": {},
   "outputs": [],
   "source": [
    "#def P1():\n",
    "### STUDENT START ###\n",
    "\n",
    "for k in range(1, 50):\n",
    "    pca = PCA(n_components=k)\n",
    "    pca.fit(train_data)\n",
    "    print(\"Explained variance with {} components: {:.3f}\".format(k, np.sum(pca.explained_variance_ratio_)))\n",
    "\n",
    "### STUDENT END ###\n",
    "\n",
    "#P1()"
   ]
  },
  {
   "cell_type": "markdown",
   "metadata": {},
   "source": [
    "(2) PCA can be very useful for visualizing data. Project the training data down to 2 dimensions and plot it. Show the positive (poisonous) cases in blue and the negative (non-poisonous) in red. Here's a reference for plotting: http://matplotlib.org/users/pyplot_tutorial.html"
   ]
  },
  {
   "cell_type": "code",
   "execution_count": null,
   "metadata": {},
   "outputs": [],
   "source": [
    "#def P2():\n",
    "### STUDENT START ###\n",
    "\n",
    "pca = PCA(n_components=2)\n",
    "\n",
    "# get PCA transformed data\n",
    "new_data = pca.fit_transform(train_data)\n",
    "new_x = [x[0] for x in new_data]\n",
    "new_y = [x[1] for x in new_data]\n",
    "\n",
    "poison_x = [x for i, x in enumerate(new_x) if train_labels[i]==1]\n",
    "poison_y = [y for i, y in enumerate(new_y) if train_labels[i]==1]\n",
    "\n",
    "non_poison_x = [x for i, x in enumerate(new_x) if train_labels[i]!=1]\n",
    "non_poison_y = [y for i, y in enumerate(new_y) if train_labels[i]!=1]\n",
    "\n",
    "plt.figure(figsize=(10,10))\n",
    "plt.xlabel(\"Dimension 1\")\n",
    "plt.ylabel(\"Dimension 2\")\n",
    "plt.title(\"Mushrooms plotted by 2 principle components\")\n",
    "plt.plot(poison_x, poison_y, 'b.')\n",
    "plt.plot(non_poison_x, non_poison_y, 'r.')\n",
    "plt.gca().legend((\"Poison\", \"Non-Poison\"), loc=2)\n",
    "plt.show()\n",
    "### STUDENT END ###\n",
    "\n",
    "#P2()"
   ]
  },
  {
   "cell_type": "markdown",
   "metadata": {},
   "source": [
    "(3) Run KMeans with [1,16] clusters over the 2d projected data. Mark each centroid cluster and plot a circle that goes through the most distant point assigned to each cluster."
   ]
  },
  {
   "cell_type": "code",
   "execution_count": null,
   "metadata": {},
   "outputs": [],
   "source": [
    "for k in range(1,16):\n",
    "    kmeans = KMeans(n_clusters = k)\n",
    "    cluster_labels = kmeans.fit_predict(new_data)\n",
    "    cluster_distances = kmeans.transform(new_data)\n",
    "\n",
    "    cluster_dicts_list = []\n",
    "    \n",
    "    for i in range(k):\n",
    "        cluster_dict = {}\n",
    "        # get x and y for each cluster\n",
    "        cluster_dict['x'] = [x for e, x in enumerate(new_x) if cluster_labels[e]==i]\n",
    "        cluster_dict['y'] = [y for e, y in enumerate(new_y) if cluster_labels[e]==i]\n",
    "        cluster_dict['center'] = kmeans.cluster_centers_[i] \n",
    "        \n",
    "        # find centroid, furthest point, and radius\n",
    "        # for each cluster\n",
    "        this_cluster_distances = [d[i] for e,d in enumerate(cluster_distances) if cluster_labels[e] == i]\n",
    "        max_distance_point = this_cluster_distances.index(max(this_cluster_distances))\n",
    "        \n",
    "        cluster_dict['radius'] = np.sqrt((cluster_dict['x'][max_distance_point] - cluster_dict['center'][0])**2\n",
    "                                         + (cluster_dict['y'][max_distance_point] - cluster_dict['center'][1])**2)\n",
    "    \n",
    "        cluster_dicts_list.append(cluster_dict)\n",
    "    \n",
    "    fig, ax = plt.subplots(figsize=(10,10))\n",
    "    ax.axis(\"equal\")\n",
    "    for cluster_dict in cluster_dicts_list:\n",
    "        plt.title(\"Clusters with k={}\".format(k))\n",
    "        plt.plot(cluster_dict['x'], cluster_dict['y'], '.')\n",
    "        plt.plot(cluster_dict['center'][0], cluster_dict['center'][1], 'r.')\n",
    "        circle = plt.Circle((cluster_dict['center'][0], \n",
    "                             cluster_dict['center'][1]), cluster_dict['radius'], fill=False)\n",
    "        ax.add_artist(circle)\n",
    "    plt.show()"
   ]
  },
  {
   "cell_type": "markdown",
   "metadata": {},
   "source": [
    "(4) Fit a Gaussian Mixture Model for the positive examples in your 2d projected data. Plot the estimated density contours as shown here: http://scikit-learn.org/stable/auto_examples/mixture/plot_gmm_pdf.html#example-mixture-plot-gmm-pdf-py. Vary the number of mixture components from 1-4 and the covariance matrix type ('spherical', 'diag', 'tied', 'full')."
   ]
  },
  {
   "cell_type": "code",
   "execution_count": null,
   "metadata": {},
   "outputs": [],
   "source": [
    "#def P4():\n",
    "### STUDENT START ###\n",
    "## TODO: check with others - this works, but doesn't quite look right\n",
    "poison_sample = [[poison_x[i], poison_y[i]] for i in range(len(poison_x))]\n",
    "poison_sample = np.asarray(poison_sample)\n",
    "\n",
    "component_options = list(range(1,4))\n",
    "cov_matrix_options = ['spherical', 'diag', 'tied', 'full']\n",
    "\n",
    "for component in component_options:\n",
    "    for cov_matrix in cov_matrix_options:\n",
    "        gm = GaussianMixture(n_components = component,\n",
    "                             covariance_type = cov_matrix)\n",
    "        gm.fit(poison_sample)\n",
    "        \n",
    "        x = np.linspace(-10., 15.)\n",
    "        y = np.linspace(-10., 20.)\n",
    "        X, Y = np.meshgrid(x, y)\n",
    "        XX = np.array([X.ravel(), Y.ravel()]).T\n",
    "        Z = -gm.score_samples(XX)\n",
    "        Z = Z.reshape(X.shape)\n",
    "\n",
    "        CS = plt.contour(X, Y, Z, norm=LogNorm(vmin=1.0, vmax=1000.0),\n",
    "                         levels=np.logspace(0, 3, 10))\n",
    "        CB = plt.colorbar(CS, shrink=0.8, extend='both')\n",
    "        plt.scatter(poison_sample[:, 0], poison_sample[:, 1], .8)\n",
    "\n",
    "        plt.title('Estimated density contours: {} components, {} cov matrix'.format(component, \n",
    "                                                                                    cov_matrix))\n",
    "        plt.axis('tight')\n",
    "        plt.show()\n",
    "### STUDENT END ###\n",
    "\n",
    "#P4()"
   ]
  },
  {
   "cell_type": "markdown",
   "metadata": {},
   "source": [
    "(5) Fit two 4-component full covariance GMMs, one for the positive examples and one for the negative examples in your 2d projected data. Predict the test examples by choosing the label for which the model gives a larger probability (use GMM.score). What is the accuracy?"
   ]
  },
  {
   "cell_type": "code",
   "execution_count": null,
   "metadata": {},
   "outputs": [],
   "source": [
    "#def P5():\n",
    "### STUDENT START ###\n",
    "\n",
    "# make the two gmms\n",
    "pos_gm = GaussianMixture(n_components = 4,\n",
    "                         covariance_type = 'full')\n",
    "pos_gm.fit(poison_sample)\n",
    "\n",
    "non_poison_sample = [[non_poison_x[i], non_poison_y[i]] for i in range(len(non_poison_x))]\n",
    "non_poison_sample = np.asarray(non_poison_sample)\n",
    "\n",
    "non_pos_gm = GaussianMixture(n_components = 4,\n",
    "                         covariance_type = 'full')\n",
    "non_pos_gm.fit(non_poison_sample)\n",
    "\n",
    "# transform test data with PCA\n",
    "\n",
    "test_pca_data = pca.transform(test_data)\n",
    "\n",
    "# classify examples using the two gmms \n",
    "\n",
    "pred_labels = []\n",
    "\n",
    "for example in test_pca_data:\n",
    "    poison_score = pos_gm.score(example.reshape(1,-1))\n",
    "    non_poison_score = non_pos_gm.score(example.reshape(1,-1))\n",
    "    if np.exp(poison_score) > np.exp(non_poison_score):\n",
    "        pred_labels.append(1)\n",
    "    else:\n",
    "        pred_labels.append(0)\n",
    "        \n",
    "# see how many it got right\n",
    "\n",
    "truthy_array = pred_labels == test_labels\n",
    "print(\"Accuracy: {:.3f}\".format(sum(truthy_array) / len(truthy_array)))\n",
    "\n",
    "### STUDENT END ###\n",
    "\n",
    "#P5()"
   ]
  },
  {
   "cell_type": "markdown",
   "metadata": {},
   "source": [
    "(6) Ideally, we'd like a model that gives the best accuracy with the fewest parameters. Run a series of experiments to find the model that gives the best accuracy with no more than 50 parameters. For example, with 3 PCA components and 2-component diagonal covariance GMMs, you'd have:\n",
    "\n",
    "( (3 mean vector + 3 covariance matrix) x 2 components ) x 2 classes = 24 parameters\n",
    "\n",
    "You should vary the number of PCA components, the number of GMM components, and the covariance type."
   ]
  },
  {
   "cell_type": "code",
   "execution_count": null,
   "metadata": {},
   "outputs": [],
   "source": [
    "#def P6():\n",
    "### STUDENT START ###\n",
    "\n",
    "## todo: still need to understand the other types of covariance well enough to do calculation\n",
    "# i think this calculation only works for diagonal covariance \n",
    "\n",
    "## fit PCA on train\n",
    "def fit_pca_return_two_groups(num_components):\n",
    "    pca = PCA(n_components = num_components)\n",
    "    new_data = pca.fit_transform(train_data)\n",
    "        \n",
    "    poison_data = [[entry] for i, entry in enumerate(new_data) if train_labels[i]==1]\n",
    "    poison_data = np.concatenate(poison_data, axis=0)\n",
    "    \n",
    "    non_poison_data = [[entry] for i, entry in enumerate(new_data) if train_labels[i]==0]\n",
    "    non_poison_data = np.concatenate(non_poison_data, axis=0)\n",
    "    \n",
    "    new_test_data = pca.transform(test_data)\n",
    "    return poison_data, non_poison_data, new_test_data\n",
    "\n",
    "## train the two gmms\n",
    "def train_both_gmms(num_components,\n",
    "                    cov_type,\n",
    "                    poison_data,\n",
    "                    non_poison_data):\n",
    "    pos_gm = GaussianMixture(n_components = num_components,\n",
    "                             covariance_type = cov_type)\n",
    "    pos_gm.fit(poison_data)\n",
    "\n",
    "    non_pos_gm = GaussianMixture(n_components = num_components,\n",
    "                                 covariance_type = cov_type)\n",
    "    non_pos_gm.fit(non_poison_data)\n",
    "    \n",
    "    return pos_gm, non_pos_gm\n",
    "\n",
    "def predict_on_test_data(test_data,\n",
    "                         pos_gm,\n",
    "                         non_pos_gm):\n",
    "    pred_labels = []\n",
    "\n",
    "    for example in test_data:\n",
    "        poison_score = pos_gm.score(example.reshape(1,-1))\n",
    "        non_poison_score = non_pos_gm.score(example.reshape(1,-1))\n",
    "        if np.exp(poison_score) > np.exp(non_poison_score):\n",
    "            pred_labels.append(1)\n",
    "        else:\n",
    "            pred_labels.append(0)\n",
    "    \n",
    "    truthy_array = pred_labels == test_labels\n",
    "    accuracy = sum(truthy_array) / len(truthy_array)\n",
    "    print(\"Accuracy: {:.3f}\".format(sum(truthy_array) / len(truthy_array)))\n",
    "    return accuracy\n",
    "\n",
    "    \n",
    "## predict on test\n",
    "## calculate predictions\n",
    "\n",
    "pca_components = list(range(1,5))\n",
    "gmm_components = list(range(1,5))\n",
    "\n",
    "highest_so_far = 0\n",
    "for pca_c in pca_components:\n",
    "    for gmm_c in gmm_components:\n",
    "        if ((pca_c + pca_c) * gmm_c) * 2 <= 50:\n",
    "            print(\"\\nNum PCA components: {}\".format(pca_c))\n",
    "            print(\"Num GMM components: {}\".format(gmm_c))\n",
    "            print(\"Num parameters: {}\".format(((pca_c + pca_c) * gmm_c) * 2))\n",
    "            p_d, n_p_d, t_d = fit_pca_return_two_groups(pca_c)\n",
    "            pos_gm, non_pos_gm = train_both_gmms(gmm_c,\n",
    "                                                 'diag',\n",
    "                                                 p_d,\n",
    "                                                 n_p_d)\n",
    "            acc = predict_on_test_data(t_d,\n",
    "                                       pos_gm,\n",
    "                                       non_pos_gm)\n",
    "            if acc > highest_so_far:\n",
    "                print(\"Highest so far!\")\n",
    "                highest_so_far = acc\n",
    "\n",
    "### STUDENT END ###\n",
    "\n",
    "#P6()"
   ]
  },
  {
   "cell_type": "code",
   "execution_count": null,
   "metadata": {
    "collapsed": true
   },
   "outputs": [],
   "source": []
  },
  {
   "cell_type": "code",
   "execution_count": null,
   "metadata": {
    "collapsed": true
   },
   "outputs": [],
   "source": []
  },
  {
   "cell_type": "code",
   "execution_count": null,
   "metadata": {
    "collapsed": true
   },
   "outputs": [],
   "source": []
  },
  {
   "cell_type": "code",
   "execution_count": null,
   "metadata": {
    "collapsed": true
   },
   "outputs": [],
   "source": [
    "### OLD - this is when i was not trying to do it dynamically\n",
    "#def P3():\n",
    "### STUDENT START ###\n",
    "kmeans = KMeans(n_clusters = 3)\n",
    "cluster_labels = kmeans.fit_predict(new_data)\n",
    "cluster_centers_x = [x[0] for x in kmeans.cluster_centers_]\n",
    "cluster_centers_y = [x[1] for x in kmeans.cluster_centers_]\n",
    "\n",
    "cluster_1_x = [x for i, x in enumerate(new_x) if cluster_labels[i]==0]\n",
    "cluster_1_y = [y for i, y in enumerate(new_y) if cluster_labels[i]==0]\n",
    "\n",
    "cluster_2_x = [x for i, x in enumerate(new_x) if cluster_labels[i]==1]\n",
    "cluster_2_y = [y for i, y in enumerate(new_y) if cluster_labels[i]==1]\n",
    "\n",
    "cluster_3_x = [x for i, x in enumerate(new_x) if cluster_labels[i]==2]\n",
    "cluster_3_y = [y for i, y in enumerate(new_y) if cluster_labels[i]==2]\n",
    "\n",
    "# finding furthest point\n",
    "cluster_distances = kmeans.transform(new_data)\n",
    "cluster_1_distances = [d[0] for i,d in enumerate(cluster_distances) if cluster_labels[i] == 0]\n",
    "max_distance_point = cluster_1_distances.index(max(cluster_1_distances))\n",
    "radius = np.sqrt((cluster_1_x[max_distance_point] - cluster_centers_x[0])**2\n",
    "                 + (cluster_1_y[max_distance_point] - cluster_centers_y[0])**2)\n",
    "print(radius)\n",
    "\n",
    "## find euclidean distance from centroid to max distance point\n",
    "# that should be radius of circle \n",
    "\n",
    "fig, ax = plt.subplots(figsize=(10,10))\n",
    "ax.axis(\"equal\")\n",
    "plt.plot(cluster_1_x, cluster_1_y, 'y.')\n",
    "plt.plot(cluster_2_x, cluster_2_y, 'g.')\n",
    "plt.plot(cluster_3_x, cluster_3_y, 'b.')\n",
    "plt.plot(cluster_centers_x, cluster_centers_y, 'b.')\n",
    "circle = plt.Circle((cluster_centers_x[0], cluster_centers_y[0]), radius, fill=False)\n",
    "ax.add_artist(circle)\n",
    "plt.plot(cluster_1_x[max_distance_point], cluster_1_y[max_distance_point], 'r.')\n",
    "\n",
    "### STUDENT END ###\n",
    "\n",
    "#P3()"
   ]
  }
 ],
 "metadata": {
  "kernelspec": {
   "display_name": "Python 3",
   "language": "python",
   "name": "python3"
  },
  "language_info": {
   "codemirror_mode": {
    "name": "ipython",
    "version": 3
   },
   "file_extension": ".py",
   "mimetype": "text/x-python",
   "name": "python",
   "nbconvert_exporter": "python",
   "pygments_lexer": "ipython3",
   "version": "3.6.3"
  }
 },
 "nbformat": 4,
 "nbformat_minor": 1
}
